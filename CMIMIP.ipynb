{
  "nbformat": 4,
  "nbformat_minor": 0,
  "metadata": {
    "colab": {
      "provenance": [],
      "include_colab_link": true
    },
    "kernelspec": {
      "name": "python3",
      "display_name": "Python 3"
    }
  },
  "cells": [
    {
      "cell_type": "markdown",
      "metadata": {
        "id": "view-in-github",
        "colab_type": "text"
      },
      "source": [
        "<a href=\"https://colab.research.google.com/github/huiby23/ZSC/blob/main/CMIMIP.ipynb\" target=\"_parent\"><img src=\"https://colab.research.google.com/assets/colab-badge.svg\" alt=\"Open In Colab\"/></a>"
      ]
    },
    {
      "cell_type": "markdown",
      "metadata": {
        "id": "q3iV5QkoOStq"
      },
      "source": [
        "### This Colab provides a minimal implementation of the TrajeDi algorithm.\n",
        "\n",
        "The colab runs in approx. 3 minutes and outputs one of the plots in the paper."
      ]
    },
    {
      "cell_type": "code",
      "metadata": {
        "id": "VYUi8BVSOUUM"
      },
      "source": [
        "import torch\n",
        "\n",
        "from torch.nn import init\n",
        "from torch.optim import Adam\n",
        "import numpy as np\n",
        "\n",
        "import matplotlib.pyplot as plt\n",
        "%matplotlib inline\n",
        "import seaborn as sns\n",
        "\n",
        "from time import time"
      ],
      "execution_count": null,
      "outputs": []
    },
    {
      "cell_type": "markdown",
      "metadata": {
        "id": "Edwy7OdM8Uf7"
      },
      "source": [
        "# Define methods\n",
        "\n",
        "\n"
      ]
    },
    {
      "cell_type": "code",
      "metadata": {
        "id": "qRw5aQqB8JAh"
      },
      "source": [
        "def entropy(pi):\n",
        "    \"\"\"\n",
        "    Get policy entropy\n",
        "    :param pi: Probability matrix\n",
        "    :return: entropy\n",
        "    \"\"\"\n",
        "    return -(torch.log(pi)*pi).sum()\n",
        "\n",
        "def get_theta(dims, std_val):\n",
        "    return init.normal_(torch.zeros(dims[0], dims[1], requires_grad=True), std=std_val)\n",
        "\n",
        "\n",
        "def get_thetas(n_dim, one_step, std_val=0.01):\n",
        "    \"\"\"\n",
        "    Get policy parametrization. In the one_step game, Joint Action Learning (JAL) is used.\n",
        "    :return: List of the thetas, i.e. [theta] for the One Step setting using JAL and [theta1, theta2] for the Two Step setting\n",
        "    \"\"\"\n",
        "    if one_step:\n",
        "        dims1 = [n_dim, 1]          # p(a^1), p(a^2), of size N x 1\n",
        "        dims2 = [n_dim, 1]\n",
        "    else:\n",
        "        dims1 = [n_dim, 1]          # p(a^1), of size N x 1\n",
        "        dims2 = [n_dim, n_dim]      # p(a^2|a^1), of size N x N\n",
        "\n",
        "    theta1 = get_theta(dims1, std_val)\n",
        "    theta2 = get_theta(dims2, std_val)\n",
        "\n",
        "    return [theta1, theta2]\n",
        "\n",
        "def train_mult_seeds(n_seeds, pops, t_max, t_add, payoff_matrix, lr=0.05, div_factor = 1):\n",
        "    \"\"\"\n",
        "    Train (n_seeds) populations of agents sequentially, each with a BR. Evaluate BR self-play and inter-BR cross-play\n",
        "    TODO: add stopping criterion. Currently requires the population size.\n",
        "    :param t_max: training time since last added policy\n",
        "    :param t_add: number of steps after which to add another policy\n",
        "    \"\"\"\n",
        "    n_dim = payoff_matrix.shape[0]\n",
        "    one_step = True\n",
        "\n",
        "\n",
        "    # Pools\n",
        "    pools = []\n",
        "\n",
        "    for s in range(n_seeds):\n",
        "\n",
        "        policies = [get_thetas(n_dim, one_step)]  # Index 0 is best response\n",
        "        for i in range(pops):\n",
        "            policies.append(get_thetas(n_dim, one_step))  # \"Regular\" policies\n",
        "\n",
        "        pools.append(policies)\n",
        "\n",
        "    training_length = t_add * (pops - 1) + t_max  # Wait t_add before adding each policy + t_max after the last\n",
        "\n",
        "\n",
        "    # BR self-plays and inter-BR cross-plays\n",
        "    BR_SP = np.zeros( (n_seeds, training_length) )\n",
        "    BR_XP = np.zeros( (n_seeds*(n_seeds-1), training_length) )\n",
        "\n",
        "    returns = np.zeros((pops + 1, training_length))\n",
        "    BR_plays = np.zeros((pops + 1, training_length))\n",
        "\n",
        "    optimizers = [[[Adam([par], lr=lr) for par in thetas] for thetas in policies] for policies in pools]\n",
        "\n",
        "    active_pops = 0 if t_add > 0 else pops\n",
        "\n",
        "    for i in range(training_length):\n",
        "\n",
        "        for pool_idx, policies in enumerate(pools):\n",
        "\n",
        "            if t_add > 0 and i % t_add == 0 and active_pops < pops:\n",
        "                active_pops += 1  # Grow population\n",
        "\n",
        "            loss = 0\n",
        "            avg_entropy = 0  # average of entropies H(pi_i), except BR\n",
        "            avg_policy = torch.zeros((n_dim, n_dim))  # average of all policies except BR\n",
        "\n",
        "            for pop in range(active_pops + 1):\n",
        "                for opt in optimizers[pool_idx][pop]:\n",
        "                    opt.zero_grad()\n",
        "\n",
        "            for pop in range(active_pops + 1):\n",
        "                rewards, losses, SP_prob_matrix = get_objective(policies[pop], payoff_matrix, return_probs=True)\n",
        "\n",
        "                # Log BR SP\n",
        "                if pop == 0:\n",
        "                    BR_SP[pool_idx, i] = rewards[0]\n",
        "\n",
        "                # policy_losses[pop] += losses[0]\n",
        "                loss += losses[0]\n",
        "\n",
        "                # Get BR-p_BRlay loss: J(BR, pi_i)\n",
        "                if pop != 0:\n",
        "                    BR_rewards, BR_losses, BR_prob_matrix_A = evaluate(policies[pop], policies[0], payoff_matrix,\n",
        "                                                                       return_losses=True, return_probs=True)\n",
        "                    loss += BR_losses[0]\n",
        "\n",
        "                    BR_rewards, BR_losses, BR_prob_matrix_B = evaluate(policies[0], policies[pop], payoff_matrix,\n",
        "                                                                       return_losses=True, return_probs=True)\n",
        "                    loss += BR_losses[0]\n",
        "\n",
        "                    prob_matrix = SP_prob_matrix\n",
        "\n",
        "                    avg_entropy += entropy(prob_matrix.reshape([-1]))\n",
        "                    avg_policy += prob_matrix\n",
        "\n",
        "                    # Log performance\n",
        "                    BR_plays[pop, i] = BR_rewards[0].data.numpy()  # Play with BR\n",
        "                returns[pop, i] = rewards[0].data.numpy()  # Self-play\n",
        "\n",
        "            avg_entropy = avg_entropy / pops\n",
        "            avg_policy = avg_policy / pops\n",
        "            entropy_of_avg = entropy(avg_policy.reshape([-1]))  # entropy of average policy\n",
        "\n",
        "            JSD = (entropy_of_avg - avg_entropy)\n",
        "\n",
        "            loss -= div_factor * JSD\n",
        "\n",
        "            loss.backward()\n",
        "\n",
        "            for pop in range(active_pops + 1):\n",
        "                for opt in optimizers[pool_idx][pop]:\n",
        "                    opt.step()\n",
        "\n",
        "        BR_XP[:,i] = eval_all_XP([policies[0] for policies in pools], payoff_matrix)\n",
        "\n",
        "    return BR_SP, BR_XP, pools\n",
        "\n",
        "def get_objective(thetas, payoff_matrix, eval_mode=False, return_probs=False):\n",
        "    \"\"\"\n",
        "    Run one play of the levers game (one episode)\n",
        "    :param thetas: policy parameters\n",
        "    :param payoff_matrix: payoffs of the matrix game\n",
        "    :param l_pen: scaling of the entropy-based penalty (entropy regularization?)\n",
        "    :param one_step: Single step matrix game. Uses joint action learning\n",
        "    :param return_probs: if True, also returns the joint probability matrix (default: False)\n",
        "    :return: expected returns (1 per agent, equal), losses (1 per agent, equal, includes entropy term)\n",
        "    \"\"\"\n",
        "    one_step = True\n",
        "    if one_step:\n",
        "        thetas_1 = thetas[0]\n",
        "        thetas_2 = thetas[1]\n",
        "        p1 = torch.softmax(thetas_1, 0)\n",
        "        p2 = torch.softmax(thetas_2, 0)\n",
        "\n",
        "        p_s_comma_a = p1.matmul(torch.reshape(p2, [1, -1]))\n",
        "\n",
        "    ent = entropy(p_s_comma_a.reshape([-1]))\n",
        "    r1 = (p_s_comma_a * payoff_matrix).sum()\n",
        "    r2 = r1\n",
        "    rewards = [r1, r2]\n",
        "    l1 = -r1\n",
        "\n",
        "    # p1_ent = entropy(p1.reshape([-1]))        # Uncomment to have Agent 2 minimize conditional entropy\n",
        "    # cond_ent = ent - p1_ent\n",
        "    # l2 = -(r2 - cond_ent * 0.02)\n",
        "\n",
        "    l2 = l1\n",
        "    losses = [l1, l2]\n",
        "    if return_probs:\n",
        "        return rewards, losses, p_s_comma_a\n",
        "    return rewards, losses, {}\n",
        "\n",
        "\n",
        "def eval_all_XP(best_responses, payoff_matrix):\n",
        "\n",
        "    N = len(best_responses)\n",
        "    XP_scores = np.zeros(N*(N-1))\n",
        "\n",
        "    with torch.no_grad():\n",
        "        idx = 0\n",
        "        for i in range(N):\n",
        "            for j in range(N):\n",
        "                # XP all pairs, (BR_i, BR_j) and (BR_j, BR_i)\n",
        "\n",
        "                if i == j:\n",
        "                    continue\n",
        "\n",
        "                XP_scores[idx] = evaluate(best_responses[i], best_responses[j], payoff_matrix)\n",
        "                idx +=1\n",
        "\n",
        "    return XP_scores\n",
        "\n",
        "def evaluate(policy_0, policy_1, payoff_matrix, return_losses=False, return_probs=False):\n",
        "\n",
        "    perm = [i for i in range(n_dim)]\n",
        "\n",
        "    #policies are already split per agent\n",
        "    thetas = [policy_0[0], policy_1[1] ]\n",
        "\n",
        "    rewards, losses, probs = get_objective(thetas, payoff_matrix, eval_mode=True, return_probs=return_probs)\n",
        "    if return_probs:\n",
        "        return rewards, losses, probs\n",
        "    if return_losses:   # Return losses for population training purposes\n",
        "        return rewards, losses\n",
        "    return rewards[0].data.numpy()      # Return rewards only, for evaluation purposes\n",
        "\n",
        "def pop_training(other_play, pops, t_max, payoff_matrix, lr=0.05):\n",
        "\n",
        "    one_step = True\n",
        "    n_dim = payoff_matrix.shape[0]\n",
        "\n",
        "    policies = []\n",
        "    for i in range(pops):\n",
        "        policies.append(get_thetas(n_dim, one_step))\n",
        "    returns = np.zeros((pops, t_max))\n",
        "    cross_play = np.zeros((pops*(pops-1), t_max))\n",
        "\n",
        "    optimizers = [[Adam([par], lr=lr) for par in thetas] for thetas in policies]\n",
        "    for i in range(t_max):\n",
        "        for pop in range(pops):\n",
        "            for opt in optimizers[pop]:\n",
        "                opt.zero_grad()\n",
        "            rewards, losses, _ = get_objective(policies[pop], payoff_matrix)\n",
        "            # Minimize losses\n",
        "            losses[0].backward()\n",
        "            for opt in optimizers[pop]:\n",
        "                opt.step()\n",
        "            # Log self-play (training) returns\n",
        "            returns[pop, i] = rewards[0].data.numpy()\n",
        "\n",
        "        # Log cross-play (test) returns\n",
        "        cross_plays = eval_all_XP(policies, payoff_matrix)\n",
        "        cross_play[:, i] = cross_plays\n",
        "    return returns, cross_play"
      ],
      "execution_count": null,
      "outputs": []
    },
    {
      "cell_type": "markdown",
      "metadata": {
        "id": "BcDO8JYoEPeL"
      },
      "source": [
        "# Define Matrix"
      ]
    },
    {
      "cell_type": "code",
      "metadata": {
        "id": "kFCK7eztOce8",
        "outputId": "5bf2fca1-b97f-4946-9819-3e1cf8577877",
        "colab": {
          "base_uri": "https://localhost:8080/",
          "height": 306
        }
      },
      "source": [
        "n_dim=10\n",
        "M = torch.eye(n_dim)\n",
        "M[1,1]=0\n",
        "M[1,0]=1\n",
        "\n",
        "eps_loc = []\n",
        "for i in range(2, n_dim):\n",
        "    for j in [i-1, i+1]:\n",
        "        if j>1 and j<n_dim:\n",
        "            eps_loc.append((i,j))\n",
        "\n",
        "\n",
        "eps = 0.02\n",
        "for loc in eps_loc:\n",
        "    M[loc] = eps\n",
        "\n",
        "img = np.zeros((n_dim, n_dim, 3))\n",
        "\n",
        "for idx, val in np.ndenumerate(M.data.numpy()):\n",
        "#     print(val)\n",
        "    if val == 1:\n",
        "        img[idx] = [0,1,0]\n",
        "    elif val > 0:\n",
        "        img[idx] = [0.5,0.5,1]\n",
        "    else:\n",
        "        img[idx] = [1,1,1]\n",
        "\n",
        "fig, ax = plt.subplots()\n",
        "\n",
        "min_val, max_val, diff = 0., 10., 1.\n",
        "\n",
        "fig.set_size_inches(5,5)\n",
        "\n",
        "#imshow portion\n",
        "N_points = (max_val - min_val) / diff\n",
        "imshow_data = img\n",
        "ax.imshow(imshow_data, origin=\"lower\")\n",
        "\n",
        "#text portion\n",
        "ind_array = np.arange(min_val, max_val, diff)\n",
        "x, y = np.meshgrid(ind_array, ind_array)\n",
        "\n",
        "for x in range(10):\n",
        "    for y in range(10):\n",
        "        val = M.data.numpy()[x, y]\n",
        "        if val == 0:\n",
        "            c = 0\n",
        "        elif val == 1:\n",
        "            c = 1\n",
        "        else:\n",
        "            c = \"0.02\"\n",
        "\n",
        "        ax.text(y, x, c, va='center', ha='center', fontsize=12)\n",
        "\n",
        "#set tick marks for grid\n",
        "ax.set_xticks(np.arange(min_val-diff/2, max_val-diff/2))\n",
        "ax.set_yticks(np.arange(min_val-diff/2, max_val-diff/2))\n",
        "ax.set_xticklabels([])\n",
        "ax.set_yticklabels([])\n",
        "ax.set_xlim(min_val-diff/2, max_val-diff/2)\n",
        "ax.set_ylim(max_val-diff/2, min_val-diff/2)\n",
        "ax.grid()\n",
        "plt.show()"
      ],
      "execution_count": null,
      "outputs": [
        {
          "output_type": "display_data",
          "data": {
            "image/png": "[encoded data removed]",
            "text/plain": [
              "<Figure size 360x360 with 1 Axes>"
            ]
          },
          "metadata": {
            "tags": [],
            "needs_background": "light"
          }
        }
      ]
    },
    {
      "cell_type": "markdown",
      "metadata": {
        "id": "NHzDLWatHXAO"
      },
      "source": [
        "# Train Agents"
      ]
    },
    {
      "cell_type": "code",
      "metadata": {
        "id": "MXMW-kGhO0yY",
        "outputId": "1412a510-3722-4eb2-cac0-e487caedd229",
        "colab": {
          "base_uri": "https://localhost:8080/",
          "height": 35
        }
      },
      "source": [
        "np.random.seed(1234)\n",
        "torch.manual_seed(1234)"
      ],
      "execution_count": null,
      "outputs": [
        {
          "output_type": "execute_result",
          "data": {
            "text/plain": [
              "<torch._C.Generator at 0x7fdfd5b345a0>"
            ]
          },
          "metadata": {
            "tags": []
          },
          "execution_count": 4
        }
      ]
    },
    {
      "cell_type": "code",
      "metadata": {
        "id": "XUXe_ooKOe0I"
      },
      "source": [
        "n_seeds = 50\n",
        "\n",
        "pops = 2\n",
        "t_max = 200\n",
        "t_add = 0\n",
        "\n",
        "\n",
        "solo_SP, solo_XP = pop_training(False, n_seeds, t_max, lr=0.05, payoff_matrix=M)"
      ],
      "execution_count": null,
      "outputs": []
    },
    {
      "cell_type": "code",
      "metadata": {
        "id": "eWNi5bMKOpB1",
        "outputId": "60ceb651-8604-4ff6-d996-7595df23703a",
        "colab": {
          "base_uri": "https://localhost:8080/",
          "height": 54
        }
      },
      "source": [
        "start = time()\n",
        "\n",
        "div_factor = 0\n",
        "BR_SP_base, BR_XP_base, pools_base = train_mult_seeds(n_seeds, pops, t_max, t_add, payoff_matrix=M, lr=0.05, div_factor = div_factor )\n",
        "\n",
        "mid = time()\n",
        "print(np.round(mid-start, 3), \"sec for baseline\")\n",
        "\n",
        "div_factor = 5\n",
        "BR_SP, BR_XP, pools = train_mult_seeds(n_seeds, pops, t_max, t_add, payoff_matrix=M, lr=0.05, div_factor = div_factor)\n",
        "\n",
        "end = time()\n",
        "print(np.round(end-mid, 3), \"sec for TrajeDi\")"
      ],
      "execution_count": null,
      "outputs": [
        {
          "output_type": "stream",
          "text": [
            "53.475 sec for baseline\n",
            "53.499 sec for TrajeDi\n"
          ],
          "name": "stdout"
        }
      ]
    },
    {
      "cell_type": "markdown",
      "metadata": {
        "id": "NBHAefZOHVB6"
      },
      "source": [
        "# Plots"
      ]
    },
    {
      "cell_type": "code",
      "metadata": {
        "id": "8JmU881xOwcD",
        "outputId": "26141c92-c65d-4991-dd89-15e7a72babec",
        "colab": {
          "base_uri": "https://localhost:8080/",
          "height": 314
        }
      },
      "source": [
        "plt.figure(figsize=(12,4))\n",
        "\n",
        "x = np.arange(BR_SP.shape[1])\n",
        "\n",
        "plt.subplot(1, 2, 1)\n",
        "plt.title(\"Self-Play Return\")\n",
        "\n",
        "# BR to TrajeDi population\n",
        "m = BR_SP.mean(0)\n",
        "s = BR_SP.std(0)/np.sqrt(n_seeds)\n",
        "\n",
        "plt.plot(x, m, label=\"BR to TrajeDi pop.\")\n",
        "plt.fill_between(x, m+s, m-s, alpha=0.2)\n",
        "\n",
        "# BR to baseline population\n",
        "m = BR_SP_base.mean(0)\n",
        "s = BR_SP_base.std(0)/np.sqrt(n_seeds)\n",
        "\n",
        "plt.plot(x, m, label=\"BR to baseline pop.\")\n",
        "plt.fill_between(x, m+s, m-s, alpha=0.2)\n",
        "\n",
        "# Individual agents\n",
        "m = solo_SP.mean(0)\n",
        "s = solo_SP.std(0)/np.sqrt(n_seeds)\n",
        "\n",
        "plt.plot(x, m, label=\"Individual agents\")\n",
        "plt.fill_between(x, m+s, m-s, alpha=0.2)\n",
        "\n",
        "plt.ylabel(\"Avg. return\")\n",
        "plt.xlabel(\"Training Steps\")\n",
        "\n",
        "plt.ylim(-0.1, 1.1)\n",
        "plt.legend(loc=\"lower right\")\n",
        "\n",
        "\n",
        "# ------------------------------\n",
        "\n",
        "\n",
        "plt.subplot(1, 2, 2)\n",
        "plt.title(\"Cross-Play Return\")\n",
        "# BR to TrajeDi population\n",
        "m = BR_XP.mean(0)\n",
        "s = BR_XP.std(0)/np.sqrt(n_seeds)\n",
        "\n",
        "plt.plot(x, m, label=\"BR to TrajeDi pop.\")\n",
        "plt.fill_between(x, m+s, m-s, alpha=0.2)\n",
        "\n",
        "# BR to baseline population\n",
        "m = BR_XP_base.mean(0)\n",
        "s = BR_XP_base.std(0)/np.sqrt(n_seeds)\n",
        "\n",
        "plt.plot(x, m, label=\"BR to baseline pop.\")\n",
        "plt.fill_between(x, m+s, m-s, alpha=0.2)\n",
        "\n",
        "# Individual agents\n",
        "m = solo_XP.mean(0)\n",
        "s = solo_XP.std(0)/np.sqrt(n_seeds)\n",
        "\n",
        "plt.plot(x, m, label=\"Individual agents\")\n",
        "plt.fill_between(x, m+s, m-s, alpha=0.2)\n",
        "\n",
        "plt.ylabel(\"Avg. return\")\n",
        "plt.xlabel(\"Training Steps\")\n",
        "\n",
        "plt.ylim(-0.1, 1.1)\n",
        "plt.legend(loc=\"lower right\")"
      ],
      "execution_count": null,
      "outputs": [
        {
          "output_type": "execute_result",
          "data": {
            "text/plain": [
              "<matplotlib.legend.Legend at 0x7fdf80491d68>"
            ]
          },
          "metadata": {
            "tags": []
          },
          "execution_count": 7
        },
        {
          "output_type": "display_data",
          "data": {
            "image/png": "[encoded data removed]",
            "text/plain": [
              "<Figure size 864x288 with 2 Axes>"
            ]
          },
          "metadata": {
            "tags": [],
            "needs_background": "light"
          }
        }
      ]
    },
    {
      "cell_type": "code",
      "metadata": {
        "id": "777HdjnYOwr8"
      },
      "source": [],
      "execution_count": null,
      "outputs": []
    }
  ]
}